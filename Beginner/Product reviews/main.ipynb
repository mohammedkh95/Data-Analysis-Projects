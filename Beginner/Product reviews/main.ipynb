{
 "cells": [
  {
   "cell_type": "code",
   "execution_count": 370,
   "id": "a5efe521",
   "metadata": {},
   "outputs": [],
   "source": [
    "import pandas as pd\n",
    "from ftfy import fix_text\n",
    "import string"
   ]
  },
  {
   "cell_type": "code",
   "execution_count": 371,
   "id": "35cc0296",
   "metadata": {},
   "outputs": [],
   "source": [
    "df = pd.read_excel(r'C:\\Users\\moham\\OneDrive\\Desktop\\Python\\DA\\e-commerce reviews\\ecommerce_reviews_dirty_dataset.xlsx')"
   ]
  },
  {
   "cell_type": "code",
   "execution_count": 372,
   "id": "387415e6",
   "metadata": {},
   "outputs": [
    {
     "name": "stdout",
     "output_type": "stream",
     "text": [
      "<class 'pandas.core.frame.DataFrame'>\n",
      "RangeIndex: 1200 entries, 0 to 1199\n",
      "Data columns (total 7 columns):\n",
      " #   Column         Non-Null Count  Dtype \n",
      "---  ------         --------------  ----- \n",
      " 0   Review ID      1200 non-null   object\n",
      " 1   Product        1200 non-null   object\n",
      " 2   Review Title   1200 non-null   object\n",
      " 3   Customer Name  1200 non-null   object\n",
      " 4   Location       1200 non-null   object\n",
      " 5   Rating         1200 non-null   int64 \n",
      " 6   Review Text    1200 non-null   object\n",
      "dtypes: int64(1), object(6)\n",
      "memory usage: 65.8+ KB\n"
     ]
    }
   ],
   "source": [
    "df.info()\n",
    "\n",
    "# Datatype correct\n",
    "# No missing values"
   ]
  },
  {
   "cell_type": "code",
   "execution_count": null,
   "id": "94d04763",
   "metadata": {},
   "outputs": [],
   "source": [
    "# ROW PROCESSING\n",
    "\n",
    "# Product\n",
    "df['Product'] = df['Product'].str.title()\n",
    "df['Product'] = df['Product'].str.replace('4K Uhd Tv','4K UHD TV')\n",
    "# df['Product'].unique()\n",
    "\n",
    "# Review Title\n",
    "df['Review Title'] = df['Review Title'].str.strip()\n",
    "df['Review Title'] = df['Review Title'].str.replace(f\"[{string.punctuation}]\", \"\", regex=True)\n",
    "df['Review Title'] = df['Review Title'].str.replace('Excellent product!', 'Excellent product').str.lower().str.capitalize()\n",
    "\n",
    "\n",
    "\n",
    "# Customer Name\n",
    "df['Customer Name'] = df['Customer Name'].str.replace(r'\\n.*',' ',regex=True)\n",
    "# df['Customer Name'].unique()\n",
    "\n",
    "# Location\n",
    "df['Location'] = df['Location'].apply(fix_text)\n",
    "df['Location'] = df['Location'].str.replace(r'.*Remote in\\s*', '', regex=True)\n",
    "df['Location'] = df['Location'].str.replace('QC', 'Canada')\n",
    "df[['City','Country']] = df['Location'].str.split(',', expand=True)\n",
    "df['Country'] = df['Country'].str.strip()\n",
    "\n",
    "# Rating\n",
    "product_rating = {'Exceeded expectations':5,\n",
    "'Excellent product':5,\n",
    "'Highly recommended':5,\n",
    "'Would buy again':4,\n",
    "'Fast delivery':4,\n",
    "'Just okay':3,\n",
    "'Too noisy':2,\n",
    "'Battery life could be better':2,\n",
    "'Terrible support':1,\n",
    "'Not worth the price':1,\n",
    "}\n",
    "\n",
    "df['Rating'] = df['Review Title'].map(product_rating)\n",
    "df['Rating'] = df['Rating'].astype('Int64')\n"
   ]
  },
  {
   "cell_type": "code",
   "execution_count": 374,
   "id": "21376a41",
   "metadata": {},
   "outputs": [],
   "source": [
    "# COLUMN PROCESSING\n",
    "\n",
    "# Drop columns\n",
    "df = df.drop(columns={'Location'})\n",
    "\n",
    "# Rename columns\n",
    "df = df.rename(columns={'Review Title':'Product Feedback'})\n",
    "# Reorder columns\n",
    "column_order = ['Review ID','Customer Name','City','Country','Product','Product Feedback','Rating']\n",
    "df = df.reindex(columns=column_order)"
   ]
  },
  {
   "cell_type": "code",
   "execution_count": 375,
   "id": "cd4a684b",
   "metadata": {},
   "outputs": [],
   "source": [
    "# Convert\n",
    "df.to_excel('cleaned.xlsx',index=False)"
   ]
  }
 ],
 "metadata": {
  "kernelspec": {
   "display_name": "Python 3",
   "language": "python",
   "name": "python3"
  },
  "language_info": {
   "codemirror_mode": {
    "name": "ipython",
    "version": 3
   },
   "file_extension": ".py",
   "mimetype": "text/x-python",
   "name": "python",
   "nbconvert_exporter": "python",
   "pygments_lexer": "ipython3",
   "version": "3.11.9"
  }
 },
 "nbformat": 4,
 "nbformat_minor": 5
}
